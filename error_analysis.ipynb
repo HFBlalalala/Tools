{
 "cells": [
  {
   "cell_type": "code",
   "execution_count": 2,
   "metadata": {},
   "outputs": [],
   "source": [
    "import os\n",
    "import re\n",
    "import cv2\n",
    "import numpy as np\n",
    "import matplotlib.pyplot as plt"
   ]
  },
  {
   "cell_type": "code",
   "execution_count": 3,
   "metadata": {},
   "outputs": [
    {
     "name": "stdout",
     "output_type": "stream",
     "text": [
      "['disp0.pfm', 'im0.png', 'im1.png', 'tree.jpg']\n"
     ]
    }
   ],
   "source": [
    "# 拿到所有dump数据名\n",
    "path = 'D:\\codes\\edge_matching\\data'\n",
    "file_names = os.listdir(path)\n",
    "print(file_names)\n",
    "\n",
    "# 按方向将dump数据分类\n",
    "directions = ['front_down', 'front_up', 'rear_down', 'rear_up', 'left', 'right']\n",
    "files_dic = {}\n",
    "for direction in directions:\n",
    "    files_dic[direction] = {'rectify': [], 'disparity': []}\n",
    "for file in file_names:\n",
    "    for direction in directions:\n",
    "        if re.search(direction, file) is not None:\n",
    "            if re.search('disparity', file): files_dic[direction]['disparity'].append(file)\n",
    "            else: files_dic[direction]['rectify'].append(file)\n",
    "            #files_dic.setdefault(direction, []).append(file)\n",
    "print(files_dic)"
   ]
  },
  {
   "cell_type": "code",
   "execution_count": 8,
   "metadata": {},
   "outputs": [],
   "source": [
    "def error_analysis(files_dic, direction):\n",
    "    all_map_bad_1 = np.zeros_like((240, 320))\n",
    "    all_map_bad_2 = np.zeros_like((240, 320))\n",
    "    all_map_bad_3 = np.zeros_like((240, 320))\n",
    "    all_num_bad_1 = []\n",
    "    all_num_bad_2 = []\n",
    "    all_num_bad_3 = []\n",
    "    disparitys = files_dic[direction]['disparity']\n",
    "    for disp_name in disparitys:\n",
    "        disp = cv2.imread(path + disp_name, 0)\n",
    "        mask_bad_1 = np.array(disp) > 1.0\n",
    "        num_bad_1 = np.sum(np.array(disp) > 1.0) / disp.shape[0] / disp.shape[1]\n",
    "        mask_bad_2 = np.array(disp) > 2.0\n",
    "        num_bad_2 = np.sum(np.array(disp) > 2.0) / disp.shape[0] / disp.shape[1]\n",
    "        mask_bad_3 = np.array(disp) > 3.0\n",
    "        num_bad_3 = np.sum(np.array(disp) > 3.0) / disp.shape[0] / disp.shape[1]\n",
    "        all_map_bad_1 += mask_bad_1\n",
    "        all_map_bad_2 += mask_bad_2\n",
    "        all_map_bad_3 += mask_bad_3\n",
    "        all_num_bad_1.append(num_bad_1)\n",
    "        all_num_bad_2.append(num_bad_2)\n",
    "        all_num_bad_3.append(num_bad_3)\n",
    "    return (all_map_bad_1, all_map_bad_2, all_map_bad_3), (all_num_bad_1, all_num_bad_2, all_num_bad_3)"
   ]
  },
  {
   "cell_type": "code",
   "execution_count": 7,
   "metadata": {},
   "outputs": [
    {
     "data": {
      "image/png": "[encoded data removed]",
      "text/plain": [
       "<Figure size 640x480 with 1 Axes>"
      ]
     },
     "metadata": {},
     "output_type": "display_data"
    }
   ],
   "source": [
    "import matplotlib.pyplot as plt\n",
    "import numpy as np\n",
    "\n",
    "harvest = np.array([[0.8, 2.4, 2.5, 3.9, 0.0, 4.0, 0.0],\n",
    "                    [2.4, 0.0, 4.0, 1.0, 2.7, 0.0, 0.0],\n",
    "                    [1.1, 2.4, 0.8, 4.3, 1.9, 4.4, 0.0],\n",
    "                    [0.6, 0.0, 0.3, 0.0, 3.1, 0.0, 0.0],\n",
    "                    [0.7, 1.7, 0.6, 2.6, 2.2, 6.2, 0.0],\n",
    "                    [1.3, 1.2, 0.0, 0.0, 0.0, 3.2, 5.1],\n",
    "                    [0.1, 2.0, 0.0, 1.4, 0.0, 1.9, 6.3]])\n",
    "\n",
    "plt.imshow(harvest)\n",
    "plt.tight_layout()\n",
    "plt.show()\n"
   ]
  }
 ],
 "metadata": {
  "kernelspec": {
   "display_name": "MVG",
   "language": "python",
   "name": "python3"
  },
  "language_info": {
   "codemirror_mode": {
    "name": "ipython",
    "version": 3
   },
   "file_extension": ".py",
   "mimetype": "text/x-python",
   "name": "python",
   "nbconvert_exporter": "python",
   "pygments_lexer": "ipython3",
   "version": "3.9.13"
  },
  "orig_nbformat": 4
 },
 "nbformat": 4,
 "nbformat_minor": 2
}
